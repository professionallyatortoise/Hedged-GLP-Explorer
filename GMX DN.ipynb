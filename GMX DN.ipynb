{
 "cells": [
  {
   "cell_type": "markdown",
   "metadata": {},
   "source": [
    "# Delta Neutral Explorer GMX"
   ]
  },
  {
   "cell_type": "code",
   "execution_count": 83,
   "metadata": {},
   "outputs": [],
   "source": [
    "import numpy as np\n",
    "import math\n",
    "\n",
    "\n",
    "class GLP_Hedged_Position():\n",
    "    aave_target_health_ratio = 1.5\n",
    "    aave_liquidation_ratio = 0.85\n",
    "\n",
    "    def __init__(self, deposit, eth_init_weight, btc_init_weight,\n",
    "                 clk_init_weight, uni_init_weight, usd_init_weight, glp_apr, health_ratio=1.5):\n",
    "        self.value = deposit\n",
    "        self.btc_weight = btc_init_weight\n",
    "        self.eth_weight = eth_init_weight\n",
    "        self.clk_weight = clk_init_weight\n",
    "        self.uni_weight = uni_init_weight\n",
    "        self.usd_weight = usd_init_weight\n",
    "        self.glp_apr = glp_apr\n",
    "        self.aave_target_health_ratio = health_ratio\n",
    "\n",
    "        temp_crypto_exposure = deposit*(1 - usd_init_weight)\n",
    "        temp_aave_collateral = self.amount2collateral(temp_crypto_exposure)\n",
    "\n",
    "        scaling_factor = deposit / \\\n",
    "            (deposit + temp_aave_collateral - temp_crypto_exposure)\n",
    "\n",
    "        self.aave_collateral = temp_aave_collateral*scaling_factor\n",
    "        self.glp_exposure = deposit * scaling_factor\n",
    "\n",
    "        self.btc_exposure = self.glp_exposure * self.btc_weight\n",
    "        self.eth_exposure = self.glp_exposure * self.eth_weight\n",
    "        self.clk_exposure = self.glp_exposure * self.clk_weight\n",
    "        self.uni_exposure = self.glp_exposure * self.uni_weight\n",
    "        self.usd_exposure = self.glp_exposure * self.usd_weight\n",
    "\n",
    "        self.btc_short = self.btc_exposure\n",
    "        self.eth_short = self.eth_exposure\n",
    "        self.clk_short = self.clk_exposure\n",
    "        self.uni_short = self.uni_exposure\n",
    "\n",
    "    def amount2collateral(self, crypto_exposure) -> float:\n",
    "        return crypto_exposure * self.aave_target_health_ratio / self.aave_liquidation_ratio\n",
    "\n",
    "    def get_short_crypto(self) -> float:\n",
    "        return self.eth_short + self.btc_short + self.clk_short + self.uni_short\n",
    "\n",
    "    def get_crypto_exposure(self) -> float:\n",
    "        return self.eth_exposure + self.btc_exposure + self.clk_exposure + self.uni_exposure\n",
    "\n",
    "    def daily_return(self) -> float:\n",
    "        return self.glp_exposure * self.glp_apr / 365\n"
   ]
  },
  {
   "cell_type": "markdown",
   "metadata": {},
   "source": [
    "## Sanity Checking Values"
   ]
  },
  {
   "cell_type": "code",
   "execution_count": 74,
   "metadata": {},
   "outputs": [
    {
     "name": "stdout",
     "output_type": "stream",
     "text": [
      "Total AAVE Collateral real     :  700.5325686194184\n",
      "Sanity Collateral derived      :  700.5325686194183\n",
      "Sanity Check totals            :  1000.0\n"
     ]
    }
   ],
   "source": [
    "# Using Target Ratios\n",
    "my_position = GLP_Hedged_Position(1000, 0.28, 0.27,\n",
    "                                  0.01, 0.01, 0.43, 0.3026)\n",
    "\n",
    "print(\"Total AAVE Collateral real     : \", my_position.aave_collateral)\n",
    "print(\"Sanity Collateral derived      : \", my_position.glp_exposure *\n",
    "      (1-my_position.usd_weight)*my_position.aave_target_health_ratio/0.85)\n",
    "print(\"Sanity Check totals            : \", my_position.glp_exposure + my_position.aave_collateral *\n",
    "      (1 - my_position.aave_liquidation_ratio/my_position.aave_target_health_ratio))\n"
   ]
  },
  {
   "cell_type": "code",
   "execution_count": 91,
   "metadata": {},
   "outputs": [
    {
     "name": "stdout",
     "output_type": "stream",
     "text": [
      "Initial deposit                :  9000.00\n",
      "Total AAVE Collateral          :  5264.09\n",
      "Total GLP Exposure             :  6532.46\n",
      "My crypto exposure             :  2795.24\n",
      "Daily Return                   :  5.42\n",
      "Hedged APY                     :  24.35\n"
     ]
    }
   ],
   "source": [
    "# My real position:\n",
    "deposit = 9000\n",
    "my_position = GLP_Hedged_Position(deposit, 0.2425, 0.1564,\n",
    "                                  0.0232, 0.0058, 0.5719, 0.3030, 1.6)\n",
    "\n",
    "apr = my_position.daily_return() * 365 / deposit\n",
    "apy = ((1 + apr/12)**12 - 1) * 100\n",
    "# Does not include interest paid on AAVE hedge, but it's around 0.8%\n",
    "\n",
    "print(\"Initial deposit                : \", \"{:.2f}\".format(deposit))\n",
    "print(\"Total AAVE Collateral          : \",\"{:.2f}\".format( my_position.aave_collateral))\n",
    "print(\"Total GLP Exposure             : \", \"{:.2f}\".format(my_position.glp_exposure))\n",
    "print(\"My crypto exposure             : \", \"{:.2f}\".format(my_position.get_crypto_exposure()))\n",
    "print(\"Daily Return                   : \", \"{:.2f}\".format(my_position.daily_return()))\n",
    "print(\"Hedged APY                     : \", \"{:.2f}\".format(apy))\n"
   ]
  }
 ],
 "metadata": {
  "kernelspec": {
   "display_name": "Python 3.8.3",
   "language": "python",
   "name": "python3"
  },
  "language_info": {
   "codemirror_mode": {
    "name": "ipython",
    "version": 3
   },
   "file_extension": ".py",
   "mimetype": "text/x-python",
   "name": "python",
   "nbconvert_exporter": "python",
   "pygments_lexer": "ipython3",
   "version": "3.8.3"
  },
  "vscode": {
   "interpreter": {
    "hash": "3067ead486e059ec00ffe7555bdb889e6e264a24dc711bf108106cc7baee8d5d"
   }
  }
 },
 "nbformat": 4,
 "nbformat_minor": 4
}
